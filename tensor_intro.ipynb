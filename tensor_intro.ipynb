{
 "cells": [
  {
   "cell_type": "markdown",
   "source": [
    "# Intro to Torch Tensors\n",
    "\n",
    "Why do ML people call multi-dimensional arrays \"tensors\"?  I have no idea.\n",
    "If you do, please let me know.\n",
    "\n",
    "In this notebook we demonstrate one of the core abstractions, the `torch.tensor`.\n",
    "A `torch.tensor` is very similar to a `numpy.ndarray`. In fact there are efficient\n",
    "conversions between the two, and the way to operate on them is very similar.\n",
    "\n",
    "So why bother?\n",
    "\n",
    "Because `torch.tensor` allows to:\n",
    "\n",
    "  - execute operations on a GPU. This often speeds up applications\n",
    "  tremendously.\n",
    "  - track the partial derivatives/gradients of all operations at runtime, which is important\n",
    "  to ML applications.\n",
    "\n",
    "We will look at the latter into more detail in the \"Intro do Autograd\" section. Her we will\n",
    "focus on creation of `torch.tensor` objects and how to operate on them."
   ],
   "metadata": {
    "collapsed": false
   }
  },
  {
   "cell_type": "code",
   "execution_count": null,
   "metadata": {
    "collapsed": true
   },
   "outputs": [],
   "source": [
    "import numpy as np\n",
    "import torch\n"
   ]
  },
  {
   "cell_type": "markdown",
   "source": [
    "## Various ways to create tensors\n"
   ],
   "metadata": {
    "collapsed": false,
    "pycharm": {
     "name": "#%% md\n"
    }
   }
  },
  {
   "cell_type": "markdown",
   "source": [
    "If you have no data and just want to create a `torch.tensor` object to be filled in later,\n",
    "the most efficient way is to create an empty tensor.  This only allocates memory\n",
    "and has no overhead otherwise.\n"
   ],
   "metadata": {
    "collapsed": false,
    "pycharm": {
     "name": "#%% md\n"
    }
   }
  },
  {
   "cell_type": "code",
   "execution_count": null,
   "outputs": [],
   "source": [
    "a = torch.empty((3,4))\n",
    "a"
   ],
   "metadata": {
    "collapsed": false,
    "pycharm": {
     "name": "#%%\n"
    }
   }
  },
  {
   "cell_type": "markdown",
   "source": [
    "Slicing pretty much works as in `numpy`. Slices are views."
   ],
   "metadata": {
    "collapsed": false,
    "pycharm": {
     "name": "#%% md\n"
    }
   }
  },
  {
   "cell_type": "code",
   "execution_count": null,
   "outputs": [],
   "source": [
    "b = a[:, 1:3]\n",
    "b[0, 0] = 3.14\n",
    "print(b)\n",
    "print(a)\n",
    "\n",
    "\n"
   ],
   "metadata": {
    "collapsed": false,
    "pycharm": {
     "name": "#%%\n"
    }
   }
  }
 ],
 "metadata": {
  "kernelspec": {
   "display_name": "Python 3",
   "language": "python",
   "name": "python3"
  },
  "language_info": {
   "codemirror_mode": {
    "name": "ipython",
    "version": 2
   },
   "file_extension": ".py",
   "mimetype": "text/x-python",
   "name": "python",
   "nbconvert_exporter": "python",
   "pygments_lexer": "ipython2",
   "version": "2.7.6"
  }
 },
 "nbformat": 4,
 "nbformat_minor": 0
}