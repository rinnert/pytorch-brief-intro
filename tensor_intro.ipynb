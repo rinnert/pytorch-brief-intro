{
 "cells": [
  {
   "cell_type": "markdown",
   "metadata": {},
   "source": [
    "# Intro to Torch Tensors\n",
    "\n",
    "Why do ML people call multi-dimensional arrays \"tensors\"?  I have no idea.\n",
    "If you do, please let me know.\n",
    "\n",
    "In this notebook we demonstrate one of the core abstractions, the `torch.tensor`.\n",
    "A `torch.tensor` is very similar to a `numpy.ndarray`. In fact there are efficient\n",
    "conversions between the two, and the way to operate on them is very similar.\n",
    "\n",
    "So why bother?\n",
    "\n",
    "Because `torch.tensor` allows to:\n",
    "\n",
    "  - execute operations on a GPU. This often speeds up applications\n",
    "  tremendously.\n",
    "  - track the partial derivatives/gradients of all operations at runtime, which is important\n",
    "  to ML applications.\n",
    "\n",
    "We will look at the latter into more detail in the \"Intro do Autograd\" section. Her we will\n",
    "focus on creation of `torch.tensor` objects and how to operate on them.\n",
    "\n",
    "[Tensor Reference Documentation](https://pytorch.org/docs/stable/tensors.html)\n"
   ]
  },
  {
   "cell_type": "code",
   "execution_count": null,
   "metadata": {
    "collapsed": true
   },
   "outputs": [],
   "source": [
    "import numpy as np\n",
    "import torch\n",
    "import math\n"
   ]
  },
  {
   "cell_type": "markdown",
   "metadata": {
    "pycharm": {
     "name": "#%% md\n"
    }
   },
   "source": [
    "## Various ways to create tensors\n"
   ]
  },
  {
   "cell_type": "markdown",
   "metadata": {
    "pycharm": {
     "name": "#%% md\n"
    }
   },
   "source": [
    "If you have no data and just want to create a `torch.tensor` object to be filled in later,\n",
    "the most efficient way is to create an empty tensor.  This only allocates memory\n",
    "and has no overhead otherwise.\n"
   ]
  },
  {
   "cell_type": "code",
   "execution_count": null,
   "metadata": {
    "pycharm": {
     "name": "#%%\n"
    }
   },
   "outputs": [],
   "source": [
    "a = torch.empty((3, 4))\n",
    "print(a)\n",
    "print(a.shape)"
   ]
  },
  {
   "cell_type": "markdown",
   "metadata": {
    "pycharm": {
     "name": "#%% md\n"
    }
   },
   "source": [
    "If you are familiar with `numpy` this will all look familiar.\n"
   ]
  },
  {
   "cell_type": "code",
   "execution_count": null,
   "metadata": {
    "pycharm": {
     "name": "#%%\n"
    }
   },
   "outputs": [],
   "source": [
    "b = torch.zeros((3, 4))\n",
    "print(b)\n",
    "c = torch.ones((3, 4))\n",
    "print(c)\n",
    "d = torch.rand((3, 4))\n",
    "print(d)\n",
    "print(d.type(), d.dtype)"
   ]
  },
  {
   "cell_type": "markdown",
   "metadata": {
    "pycharm": {
     "name": "#%% md\n"
    }
   },
   "source": [
    "The default element type is `torch.float32`. You can create tensors with other types.\n",
    "\n",
    "Note that the element type is printed if it was explicitely specified."
   ]
  },
  {
   "cell_type": "code",
   "execution_count": null,
   "metadata": {
    "pycharm": {
     "name": "#%%\n"
    }
   },
   "outputs": [],
   "source": [
    "e = torch.ones((3, 4), dtype=torch.int32)\n",
    "print(e)\n",
    "print(e.type(), e.dtype)\n"
   ]
  },
  {
   "cell_type": "markdown",
   "metadata": {
    "pycharm": {
     "name": "#%% md\n"
    }
   },
   "source": [
    "Tensors can be converted to other types using the `.to()` method.  This creates a copy.\n",
    "\n",
    "Check the [Reference Documentation](https://pytorch.org/docs/stable/tensors.html)\n",
    "for available types."
   ]
  },
  {
   "cell_type": "code",
   "execution_count": null,
   "metadata": {
    "pycharm": {
     "name": "#%%\n"
    }
   },
   "outputs": [],
   "source": [
    "f = e.to(torch.uint8)\n",
    "print(f)\n",
    "print(id(f), f.type(), f.dtype)\n",
    "print(id(e), e.type(), e.dtype)"
   ]
  },
  {
   "cell_type": "markdown",
   "metadata": {
    "pycharm": {
     "name": "#%% md\n"
    }
   },
   "source": [
    "We can also create tensors from python iterables.  This always creates a copy of the data\n",
    "because the underlying representation is very different.\n"
   ]
  },
  {
   "cell_type": "code",
   "execution_count": null,
   "metadata": {
    "pycharm": {
     "name": "#%%\n"
    }
   },
   "outputs": [],
   "source": [
    "g = torch.tensor([[1, 2, 3], (4, 5, 6)])\n",
    "print(g)\n",
    "print(g.type(), g.dtype)"
   ]
  },
  {
   "cell_type": "markdown",
   "metadata": {
    "pycharm": {
     "name": "#%% md\n"
    }
   },
   "source": [
    "Note that torch used the largest native integer type. Unlimited python integers\n",
    "are not supported.\n",
    "\n",
    "This only happens if all elements are integers. Otherwise torch goes back to the default.\n",
    "But you can of course specify the desired `dtype`.\n"
   ]
  },
  {
   "cell_type": "code",
   "execution_count": null,
   "metadata": {
    "pycharm": {
     "name": "#%%\n"
    }
   },
   "outputs": [],
   "source": [
    "h = torch.tensor([[1, 2, 3.14], (4, 5, 6)])\n",
    "print(h)\n",
    "print(h.type(), h.dtype)\n",
    "i = torch.tensor([[1, 2, 3.14], (4, 5, 6)], dtype=torch.int32)\n",
    "print(i)\n",
    "print(i.type(), i.dtype)\n"
   ]
  },
  {
   "cell_type": "markdown",
   "metadata": {
    "pycharm": {
     "name": "#%% md\n"
    }
   },
   "source": [
    "This also works with numpy arrays."
   ]
  },
  {
   "cell_type": "code",
   "execution_count": null,
   "metadata": {
    "pycharm": {
     "name": "#%%\n"
    }
   },
   "outputs": [],
   "source": [
    "npa = np.ones((3, 4))\n",
    "j = torch.tensor(npa)\n",
    "print(j)\n",
    "print(j.type(), j.dtype)"
   ]
  },
  {
   "cell_type": "markdown",
   "metadata": {
    "pycharm": {
     "name": "#%% md\n"
    }
   },
   "source": [
    "Note the `dtype`! This is a common gotcha.  Make sure you specify `dtype` when creating numpy\n",
    "arrays to avoid trouble down the line.\n",
    "\n",
    "This also created a copy of the data."
   ]
  },
  {
   "cell_type": "code",
   "execution_count": null,
   "metadata": {
    "pycharm": {
     "name": "#%%\n"
    }
   },
   "outputs": [],
   "source": [
    "j[0, 0] = 2\n",
    "print(j)\n",
    "print(npa)"
   ]
  },
  {
   "cell_type": "markdown",
   "metadata": {
    "pycharm": {
     "name": "#%% md\n"
    }
   },
   "source": [
    "Copying the data is often undesirable.  Torch offers methods to avoid this.\n",
    "This works in both directions.  Note that no copy is made and operations\n",
    "propagate all the way back."
   ]
  },
  {
   "cell_type": "code",
   "execution_count": null,
   "metadata": {
    "pycharm": {
     "name": "#%%\n"
    }
   },
   "outputs": [],
   "source": [
    "npb = np.ones((3, 4), dtype=np.float32)\n",
    "k = torch.from_numpy(npb)\n",
    "k[0, 0] = 2\n",
    "print(k)\n",
    "print(npb)"
   ]
  },
  {
   "cell_type": "code",
   "execution_count": null,
   "metadata": {
    "pycharm": {
     "name": "#%%\n"
    }
   },
   "outputs": [],
   "source": [
    "npc = k.numpy()\n",
    "print(npc)\n",
    "npc[0, 1] = 2\n",
    "print(npc)\n",
    "print(k)\n",
    "print(npb)"
   ]
  },
  {
   "cell_type": "markdown",
   "metadata": {},
   "source": [
    "Slicing and broadcasting pretty much works as in `numpy`.\n",
    "We are not going into the details here.\n",
    "\n",
    "As expected, slices are views."
   ]
  },
  {
   "cell_type": "code",
   "execution_count": null,
   "metadata": {
    "pycharm": {
     "name": "#%%\n"
    }
   },
   "outputs": [],
   "source": [
    "l = k[:, 1:3]\n",
    "l[0, 0] = 3.14\n",
    "print(l)\n",
    "print(k)"
   ]
  },
  {
   "cell_type": "markdown",
   "metadata": {
    "pycharm": {
     "name": "#%% md\n"
    }
   },
   "source": [
    "## Operations on Tensors\n",
    "\n",
    "Pretty much like in `numpy` you can perform operations on `torch.tensor` objects.\n",
    "\n",
    "  - per element scalar operations\n",
    "  - per element operations on two tensors\n",
    "  - linear algebra\n",
    "\n",
    "By default, these create copies of the data. But there are in-place variants."
   ]
  },
  {
   "cell_type": "code",
   "execution_count": null,
   "metadata": {
    "pycharm": {
     "name": "#%%\n"
    }
   },
   "outputs": [],
   "source": [
    "m = torch.ones((3, 4))\n",
    "n = m * 3\n",
    "print(n)\n",
    "print(m)"
   ]
  },
  {
   "cell_type": "markdown",
   "metadata": {
    "pycharm": {
     "name": "#%% md\n"
    }
   },
   "source": [
    "In-place variant, not creating a copy. Still returns a reference to the result.\n"
   ]
  },
  {
   "cell_type": "code",
   "execution_count": null,
   "metadata": {
    "pycharm": {
     "name": "#%%\n"
    }
   },
   "outputs": [],
   "source": [
    "o = torch.ones((3, 4))\n",
    "p = o.mul_(3)\n",
    "print(p)\n",
    "print(o)\n"
   ]
  },
  {
   "cell_type": "markdown",
   "metadata": {
    "pycharm": {
     "name": "#%% md\n"
    }
   },
   "source": [
    "All the usual suspects are available.\n"
   ]
  },
  {
   "cell_type": "code",
   "execution_count": null,
   "metadata": {
    "pycharm": {
     "name": "#%%\n"
    }
   },
   "outputs": [],
   "source": [
    "q = torch.rand((20, ))\n",
    "r = torch.sin(q)\n",
    "print(r)\n",
    "print(q)"
   ]
  },
  {
   "cell_type": "markdown",
   "metadata": {
    "pycharm": {
     "name": "#%% md\n"
    }
   },
   "source": [
    "... with their in-place variants"
   ]
  },
  {
   "cell_type": "code",
   "execution_count": null,
   "metadata": {
    "pycharm": {
     "name": "#%%\n"
    }
   },
   "outputs": [],
   "source": [
    "s = q.sin_()\n",
    "print(s)\n",
    "print(q)\n"
   ]
  },
  {
   "cell_type": "markdown",
   "metadata": {
    "pycharm": {
     "name": "#%% md\n"
    }
   },
   "source": [
    "Some simple linear algebra. Here things can get confusing...\n"
   ]
  },
  {
   "cell_type": "code",
   "execution_count": null,
   "metadata": {
    "pycharm": {
     "name": "#%%\n"
    }
   },
   "outputs": [],
   "source": [
    "t = torch.ones((3, 3))\n",
    "u = torch.eye(3) * 7\n",
    "v = t.matmul(u)\n",
    "print(t)\n",
    "print(u)\n",
    "print(v)\n"
   ]
  },
  {
   "cell_type": "markdown",
   "metadata": {
    "pycharm": {
     "name": "#%% md\n"
    }
   },
   "source": [
    "... same in-place? This does not work!!"
   ]
  },
  {
   "cell_type": "code",
   "execution_count": null,
   "metadata": {
    "pycharm": {
     "name": "#%%\n"
    }
   },
   "outputs": [],
   "source": [
    "print(t)\n",
    "v = torch.matmul(t, u, out=t)\n",
    "print(t)\n",
    "print(u)\n",
    "print(v)"
   ]
  },
  {
   "cell_type": "markdown",
   "metadata": {
    "pycharm": {
     "name": "#%% md\n"
    }
   },
   "source": [
    "This does work. Note that `x` and `y` refer to the same object."
   ]
  },
  {
   "cell_type": "code",
   "execution_count": null,
   "metadata": {
    "pycharm": {
     "name": "#%%\n"
    }
   },
   "outputs": [],
   "source": [
    "w = torch.ones((3, 3))\n",
    "x = torch.zeros((3, 3))\n",
    "y = torch.matmul(w, u, out=x)\n",
    "print(w)\n",
    "print(id(x), x)\n",
    "print(id(y), y)\n",
    "\n"
   ]
  }
 ],
 "metadata": {
  "kernelspec": {
   "display_name": "Python 3",
   "language": "python",
   "name": "python3"
  },
  "language_info": {
   "codemirror_mode": {
    "name": "ipython",
    "version": 3
   },
   "file_extension": ".py",
   "mimetype": "text/x-python",
   "name": "python",
   "nbconvert_exporter": "python",
   "pygments_lexer": "ipython3",
   "version": "3.7.4"
  }
 },
 "nbformat": 4,
 "nbformat_minor": 1
}